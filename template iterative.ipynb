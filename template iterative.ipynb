{
 "cells": [
  {
   "cell_type": "code",
   "execution_count": 11,
   "metadata": {},
   "outputs": [
    {
     "name": "stdout",
     "output_type": "stream",
     "text": [
      "The autoreload extension is already loaded. To reload it, use:\n",
      "  %reload_ext autoreload\n"
     ]
    }
   ],
   "source": [
    "%load_ext autoreload"
   ]
  },
  {
   "cell_type": "markdown",
   "metadata": {},
   "source": [
    "# GAUSS JACOBI"
   ]
  },
  {
   "cell_type": "code",
   "execution_count": 31,
   "metadata": {},
   "outputs": [
    {
     "name": "stdout",
     "output_type": "stream",
     "text": [
      "[01-25 08:25:24][INFO] i= 0 x: [[1. 1.]]\n",
      "[01-25 08:25:24][INFO] i= 1 x: [[3. 4.]]\n",
      "[01-25 08:25:24][INFO] i= 2 x: [[-12.   1.]]\n",
      "[01-25 08:25:24][INFO] i= 3 x: [[ 3.  23.5]]\n",
      "[01-25 08:25:24][INFO] i= 4 x: [[-109.5    1. ]]\n",
      "[01-25 08:25:24][INFO] i= 5 x: [[  3.   169.75]]\n",
      "[01-25 08:25:24][INFO] i= 6 x: [[-840.75    1.  ]]\n",
      "[01-25 08:25:24][INFO] i= 7 x: [[   3.    1266.625]]\n",
      "[01-25 08:25:24][INFO] i= 8 x: [[-6.325125e+03  1.000000e+00]]\n",
      "[01-25 08:25:24][INFO] i= 9 x: [[3.0000000e+00 9.4931875e+03]]\n"
     ]
    },
    {
     "data": {
      "text/plain": [
       "(array([[3.0000000e+00],\n",
       "        [9.4931875e+03]]),\n",
       " [array([[1.],\n",
       "         [1.]]),\n",
       "  array([[3.],\n",
       "         [4.]]),\n",
       "  array([[-12.],\n",
       "         [  1.]]),\n",
       "  array([[ 3. ],\n",
       "         [23.5]]),\n",
       "  array([[-109.5],\n",
       "         [   1. ]]),\n",
       "  array([[  3.  ],\n",
       "         [169.75]]),\n",
       "  array([[-840.75],\n",
       "         [   1.  ]]),\n",
       "  array([[   3.   ],\n",
       "         [1266.625]]),\n",
       "  array([[-6.325125e+03],\n",
       "         [ 1.000000e+00]]),\n",
       "  array([[3.0000000e+00],\n",
       "         [9.4931875e+03]])])"
      ]
     },
     "execution_count": 31,
     "metadata": {},
     "output_type": "execute_result"
    }
   ],
   "source": [
    "%autoreload 2\n",
    "from src import gauss_jacobi\n",
    "\n",
    "A = [[2, 10], [3, 2]]\n",
    "b = [16, 11]\n",
    "x0 = [1, 1]\n",
    "tol = 0.1\n",
    "max_iter = 10\n",
    "\n",
    "gauss_jacobi(A=A, b=b, x0=x0, tol=tol, max_iter= max_iter)"
   ]
  },
  {
   "cell_type": "code",
   "execution_count": 28,
   "metadata": {},
   "outputs": [
    {
     "name": "stdout",
     "output_type": "stream",
     "text": [
      "[01-25 08:20:19][INFO] i= 0 x: [[1. 1.]]\n",
      "[01-25 08:20:19][INFO] i= 1 x: [[3.  1.4]]\n",
      "[01-25 08:20:19][INFO] i= 2 x: [[2.73333333 1.        ]]\n",
      "[01-25 08:20:19][INFO] i= 3 x: [[3.         1.05333333]]\n"
     ]
    },
    {
     "data": {
      "text/plain": [
       "(array([[2.96444444],\n",
       "        [1.        ]]),\n",
       " [array([[1.],\n",
       "         [1.]]),\n",
       "  array([[3. ],\n",
       "         [1.4]]),\n",
       "  array([[2.73333333],\n",
       "         [1.        ]]),\n",
       "  array([[3.        ],\n",
       "         [1.05333333]])])"
      ]
     },
     "execution_count": 28,
     "metadata": {},
     "output_type": "execute_result"
    }
   ],
   "source": [
    "%autoreload 2\n",
    "from src import gauss_jacobi\n",
    "\n",
    "A = [[3, 2],\n",
    "     [2, 10]]\n",
    "b = [11, 16]\n",
    "x0 = [1, 1]\n",
    "tol = 0.1\n",
    "max_iter = 100\n",
    "\n",
    "gauss_jacobi(A=A, b=b, x0=x0, tol=tol, max_iter= max_iter)\n",
    "\n"
   ]
  },
  {
   "cell_type": "markdown",
   "metadata": {},
   "source": [
    "# GAUSS SEIDEL"
   ]
  },
  {
   "cell_type": "code",
   "execution_count": 29,
   "metadata": {},
   "outputs": [
    {
     "name": "stdout",
     "output_type": "stream",
     "text": [
      "[01-25 08:23:50][INFO] i= 0 x: [[1. 1.]]\n",
      "[01-25 08:23:50][INFO] i= 1 x: [[3. 1.]]\n"
     ]
    },
    {
     "data": {
      "text/plain": [
       "(array([[3.],\n",
       "        [1.]]),\n",
       " [array([[1.],\n",
       "         [1.]]),\n",
       "  array([[3.],\n",
       "         [1.]])])"
      ]
     },
     "execution_count": 29,
     "metadata": {},
     "output_type": "execute_result"
    }
   ],
   "source": [
    "%autoreload 2\n",
    "from src import gauss_seidel\n",
    "\n",
    "A = [[3, 2],\n",
    "     [2, 10]]\n",
    "b = [11, 16]\n",
    "x0 = [1, 1]\n",
    "tol = 0.1\n",
    "max_iter = 100\n",
    "\n",
    "gauss_seidel(A=A, b=b, x0=x0, tol=tol, max_iter= max_iter)"
   ]
  },
  {
   "cell_type": "code",
   "execution_count": 32,
   "metadata": {},
   "outputs": [
    {
     "name": "stdout",
     "output_type": "stream",
     "text": [
      "[01-25 08:25:57][INFO] i= 0 x: [[1. 1.]]\n",
      "[01-25 08:25:57][INFO] i= 1 x: [[3. 1.]]\n"
     ]
    },
    {
     "data": {
      "text/plain": [
       "(array([[3.],\n",
       "        [1.]]),\n",
       " [array([[1.],\n",
       "         [1.]]),\n",
       "  array([[3.],\n",
       "         [1.]])])"
      ]
     },
     "execution_count": 32,
     "metadata": {},
     "output_type": "execute_result"
    }
   ],
   "source": [
    "%autoreload 2\n",
    "from src import gauss_seidel\n",
    "\n",
    "A = [[2, 10], [3, 2]]\n",
    "b = [16, 11]\n",
    "x0 = [1, 1]\n",
    "tol = 0.1\n",
    "max_iter = 10\n",
    "\n",
    "gauss_seidel(A=A, b=b, x0=x0, tol=tol, max_iter= max_iter)"
   ]
  },
  {
   "cell_type": "markdown",
   "metadata": {},
   "source": [
    "# GRAFICA"
   ]
  }
 ],
 "metadata": {
  "kernelspec": {
   "display_name": "Python 3",
   "language": "python",
   "name": "python3"
  },
  "language_info": {
   "codemirror_mode": {
    "name": "ipython",
    "version": 3
   },
   "file_extension": ".py",
   "mimetype": "text/x-python",
   "name": "python",
   "nbconvert_exporter": "python",
   "pygments_lexer": "ipython3",
   "version": "3.10.0"
  }
 },
 "nbformat": 4,
 "nbformat_minor": 2
}
